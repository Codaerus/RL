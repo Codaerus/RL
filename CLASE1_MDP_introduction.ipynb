{
  "cells": [
    {
      "cell_type": "markdown",
      "metadata": {
        "pycharm": {
          "name": "#%%\n"
        },
        "id": "2nhVFL7kkzBH"
      },
      "source": [
        "# 📘 **Introducción práctica al Proceso de Decisión de Markov (MDP)**\n",
        "\n",
        "<br>\n",
        "\n",
        "En este notebook, vamos a poner en práctica los conceptos aprendidos sobre **tareas de control** y **procesos de decisión de Markov** (Markov Decision Processes, MDPs).  \n",
        "\n",
        "En particular, nos familiarizaremos con una biblioteca de software llamada **OpenAI Gym**, que nos proporciona una interfaz simple para interactuar con este tipo de entornos.\n",
        "\n",
        "<br><br><br>\n",
        "\n"
      ]
    },
    {
      "cell_type": "code",
      "source": [
        "# @title Setup code (not important) - Run this cell by pressing \"Shift + Enter\"\n",
        "\n",
        "\n",
        "\n",
        "!pip install -qq gym==0.23.0\n",
        "\n",
        "\n",
        "from typing import Tuple, Dict, Optional, Iterable\n",
        "\n",
        "import numpy as np\n",
        "import matplotlib\n",
        "from matplotlib import animation\n",
        "\n",
        "from IPython.display import HTML\n",
        "\n",
        "import gym\n",
        "from gym import spaces\n",
        "from gym.error import DependencyNotInstalled\n",
        "\n",
        "import pygame\n",
        "from pygame import gfxdraw\n",
        "\n",
        "\n",
        "class Maze(gym.Env):\n",
        "\n",
        "    def __init__(self, exploring_starts: bool = False,\n",
        "                 shaped_rewards: bool = False, size: int = 5) -> None:\n",
        "        super().__init__()\n",
        "        self.exploring_starts = exploring_starts\n",
        "        self.shaped_rewards = shaped_rewards\n",
        "        self.state = (size - 1, size - 1)\n",
        "        self.goal = (size - 1, size - 1)\n",
        "        self.maze = self._create_maze(size=size)\n",
        "        self.distances = self._compute_distances(self.goal, self.maze)\n",
        "        self.action_space = spaces.Discrete(n=4)\n",
        "        self.action_space.action_meanings = {0: 'UP', 1: 'RIGHT', 2: 'DOWN', 3: \"LEFT\"}\n",
        "        self.observation_space = spaces.MultiDiscrete([size, size])\n",
        "\n",
        "        self.screen = None\n",
        "        self.agent_transform = None\n",
        "\n",
        "    def step(self, action: int) -> Tuple[Tuple[int, int], float, bool, Dict]:\n",
        "        reward = self.compute_reward(self.state, action)\n",
        "        self.state = self._get_next_state(self.state, action)\n",
        "        done = self.state == self.goal\n",
        "        info = {}\n",
        "        return self.state, reward, done, info\n",
        "\n",
        "    def reset(self) -> Tuple[int, int]:\n",
        "        if self.exploring_starts:\n",
        "            while self.state == self.goal:\n",
        "                self.state = tuple(self.observation_space.sample())\n",
        "        else:\n",
        "            self.state = (0, 0)\n",
        "        return self.state\n",
        "\n",
        "    def render(self, mode: str = 'human') -> Optional[np.ndarray]:\n",
        "        assert mode in ['human', 'rgb_array']\n",
        "\n",
        "        screen_size = 600\n",
        "        scale = screen_size / 5\n",
        "\n",
        "        if self.screen is None:\n",
        "            pygame.init()\n",
        "            self.screen = pygame.Surface((screen_size, screen_size))\n",
        "\n",
        "        surf = pygame.Surface((screen_size, screen_size))\n",
        "        surf.fill((22, 36, 71))\n",
        "\n",
        "\n",
        "        for row in range(5):\n",
        "            for col in range(5):\n",
        "\n",
        "                state = (row, col)\n",
        "                for next_state in [(row + 1, col), (row - 1, col), (row, col + 1), (row, col - 1)]:\n",
        "                    if next_state not in self.maze[state]:\n",
        "\n",
        "                        # Add the geometry of the edges and walls (i.e. the boundaries between\n",
        "                        # adjacent squares that are not connected).\n",
        "                        row_diff, col_diff = np.subtract(next_state, state)\n",
        "                        left = (col + (col_diff > 0)) * scale - 2 * (col_diff != 0)\n",
        "                        right = ((col + 1) - (col_diff < 0)) * scale + 2 * (col_diff != 0)\n",
        "                        top = (5 - (row + (row_diff > 0))) * scale - 2 * (row_diff != 0)\n",
        "                        bottom = (5 - ((row + 1) - (row_diff < 0))) * scale + 2 * (row_diff != 0)\n",
        "\n",
        "                        gfxdraw.filled_polygon(surf, [(left, bottom), (left, top), (right, top), (right, bottom)], (255, 255, 255))\n",
        "\n",
        "        # Add the geometry of the goal square to the viewer.\n",
        "        left, right, top, bottom = scale * 4 + 10, scale * 5 - 10, scale - 10, 10\n",
        "        gfxdraw.filled_polygon(surf, [(left, bottom), (left, top), (right, top), (right, bottom)], (40, 199, 172))\n",
        "\n",
        "        # Add the geometry of the agent to the viewer.\n",
        "        agent_row = int(screen_size - scale * (self.state[0] + .5))\n",
        "        agent_col = int(scale * (self.state[1] + .5))\n",
        "        gfxdraw.filled_circle(surf, agent_col, agent_row, int(scale * .6 / 2), (228, 63, 90))\n",
        "\n",
        "        surf = pygame.transform.flip(surf, False, True)\n",
        "        self.screen.blit(surf, (0, 0))\n",
        "\n",
        "        return np.transpose(\n",
        "                np.array(pygame.surfarray.pixels3d(self.screen)), axes=(1, 0, 2)\n",
        "            )\n",
        "\n",
        "    def close(self) -> None:\n",
        "        if self.screen is not None:\n",
        "            pygame.display.quit()\n",
        "            pygame.quit()\n",
        "            self.screen = None\n",
        "\n",
        "    def compute_reward(self, state: Tuple[int, int], action: int) -> float:\n",
        "        next_state = self._get_next_state(state, action)\n",
        "        if self.shaped_rewards:\n",
        "            return - (self.distances[next_state] / self.distances.max())\n",
        "        return - float(state != self.goal)\n",
        "\n",
        "    def simulate_step(self, state: Tuple[int, int], action: int):\n",
        "        reward = self.compute_reward(state, action)\n",
        "        next_state = self._get_next_state(state, action)\n",
        "        done = next_state == self.goal\n",
        "        info = {}\n",
        "        return next_state, reward, done, info\n",
        "\n",
        "    def _get_next_state(self, state: Tuple[int, int], action: int) -> Tuple[int, int]:\n",
        "        if action == 0:\n",
        "            next_state = (state[0] - 1, state[1])\n",
        "        elif action == 1:\n",
        "            next_state = (state[0], state[1] + 1)\n",
        "        elif action == 2:\n",
        "            next_state = (state[0] + 1, state[1])\n",
        "        elif action == 3:\n",
        "            next_state = (state[0], state[1] - 1)\n",
        "        else:\n",
        "            raise ValueError(\"Action value not supported:\", action)\n",
        "        if next_state in self.maze[state]:\n",
        "            return next_state\n",
        "        return state\n",
        "\n",
        "    @staticmethod\n",
        "    def _create_maze(size: int) -> Dict[Tuple[int, int], Iterable[Tuple[int, int]]]:\n",
        "        maze = {(row, col): [(row - 1, col), (row + 1, col), (row, col - 1), (row, col + 1)]\n",
        "                for row in range(size) for col in range(size)}\n",
        "\n",
        "        left_edges = [[(row, 0), (row, -1)] for row in range(size)]\n",
        "        right_edges = [[(row, size - 1), (row, size)] for row in range(size)]\n",
        "        upper_edges = [[(0, col), (-1, col)] for col in range(size)]\n",
        "        lower_edges = [[(size - 1, col), (size, col)] for col in range(size)]\n",
        "        walls = [\n",
        "            [(1, 0), (1, 1)], [(2, 0), (2, 1)], [(3, 0), (3, 1)],\n",
        "            [(1, 1), (1, 2)], [(2, 1), (2, 2)], [(3, 1), (3, 2)],\n",
        "            [(3, 1), (4, 1)], [(0, 2), (1, 2)], [(1, 2), (1, 3)],\n",
        "            [(2, 2), (3, 2)], [(2, 3), (3, 3)], [(2, 4), (3, 4)],\n",
        "            [(4, 2), (4, 3)], [(1, 3), (1, 4)], [(2, 3), (2, 4)],\n",
        "        ]\n",
        "\n",
        "        obstacles = upper_edges + lower_edges + left_edges + right_edges + walls\n",
        "\n",
        "        for src, dst in obstacles:\n",
        "            maze[src].remove(dst)\n",
        "\n",
        "            if dst in maze:\n",
        "                maze[dst].remove(src)\n",
        "\n",
        "        return maze\n",
        "\n",
        "    @staticmethod\n",
        "    def _compute_distances(goal: Tuple[int, int],\n",
        "                           maze: Dict[Tuple[int, int], Iterable[Tuple[int, int]]]) -> np.ndarray:\n",
        "        distances = np.full((5, 5), np.inf)\n",
        "        visited = set()\n",
        "        distances[goal] = 0.\n",
        "\n",
        "        while visited != set(maze):\n",
        "            sorted_dst = [(v // 5, v % 5) for v in distances.argsort(axis=None)]\n",
        "            closest = next(x for x in sorted_dst if x not in visited)\n",
        "            visited.add(closest)\n",
        "\n",
        "            for neighbour in maze[closest]:\n",
        "                distances[neighbour] = min(distances[neighbour], distances[closest] + 1)\n",
        "        return distances\n",
        "\n",
        "\n",
        "def display_video(frames):\n",
        "    # Copied from: https://colab.research.google.com/github/deepmind/dm_control/blob/master/tutorial.ipynb\n",
        "    orig_backend = matplotlib.get_backend()\n",
        "    matplotlib.use('Agg')\n",
        "    fig, ax = plt.subplots(1, 1, figsize=(5, 5))\n",
        "    matplotlib.use(orig_backend)\n",
        "    ax.set_axis_off()\n",
        "    ax.set_aspect('equal')\n",
        "    ax.set_position([0, 0, 1, 1])\n",
        "    im = ax.imshow(frames[0])\n",
        "    def update(frame):\n",
        "        im.set_data(frame)\n",
        "        return [im]\n",
        "    anim = animation.FuncAnimation(fig=fig, func=update, frames=frames,\n",
        "                                    interval=50, blit=True, repeat=False)\n",
        "    return HTML(anim.to_html5_video())\n"
      ],
      "metadata": {
        "cellView": "form",
        "id": "Klag2liexhB8",
        "colab": {
          "base_uri": "https://localhost:8080/"
        },
        "outputId": "c982e9c2-0a2c-47b3-8806-4c817938bfad"
      },
      "execution_count": 1,
      "outputs": [
        {
          "output_type": "stream",
          "name": "stdout",
          "text": [
            "\u001b[?25l     \u001b[90m━━━━━━━━━━━━━━━━━━━━━━━━━━━━━━━━━━━━━━━━\u001b[0m \u001b[32m0.0/624.4 kB\u001b[0m \u001b[31m?\u001b[0m eta \u001b[36m-:--:--\u001b[0m\r\u001b[2K     \u001b[91m━━━━━━━\u001b[0m\u001b[90m╺\u001b[0m\u001b[90m━━━━━━━━━━━━━━━━━━━━━━━━━━━━━━━\u001b[0m \u001b[32m112.6/624.4 kB\u001b[0m \u001b[31m3.2 MB/s\u001b[0m eta \u001b[36m0:00:01\u001b[0m\r\u001b[2K     \u001b[91m━━━━━━━━━━━━━━━━━━━━━━━━━━━━━\u001b[0m\u001b[90m╺\u001b[0m\u001b[90m━━━━━━━━━\u001b[0m \u001b[32m471.0/624.4 kB\u001b[0m \u001b[31m6.5 MB/s\u001b[0m eta \u001b[36m0:00:01\u001b[0m\r\u001b[2K     \u001b[90m━━━━━━━━━━━━━━━━━━━━━━━━━━━━━━━━━━━━━━━\u001b[0m \u001b[32m624.4/624.4 kB\u001b[0m \u001b[31m5.6 MB/s\u001b[0m eta \u001b[36m0:00:00\u001b[0m\n",
            "\u001b[?25h  Installing build dependencies ... \u001b[?25l\u001b[?25hdone\n",
            "  Getting requirements to build wheel ... \u001b[?25l\u001b[?25hdone\n",
            "  Preparing metadata (pyproject.toml) ... \u001b[?25l\u001b[?25hdone\n",
            "  Building wheel for gym (pyproject.toml) ... \u001b[?25l\u001b[?25hdone\n"
          ]
        }
      ]
    },
    {
      "cell_type": "markdown",
      "source": [
        "## 📚 **Vista rápida de la biblioteca Gym**\n",
        "\n",
        "<br>\n",
        "\n",
        "**Gym** es una biblioteca desarrollada para la investigación en **aprendizaje por refuerzo**. Nos proporciona una interfaz sencilla para una gran variedad de tareas, entre ellas:\n",
        "\n",
        "- 🎯 **Tareas clásicas de control**: *CartPole, Pendulum, MountainCar, etc.*\n",
        "- 🎮 **Videojuegos clásicos**: *Space Invaders, Breakout, Pong, etc.*\n",
        "- ⚙️ **Tareas de control continuo**\n",
        "- 🤖 **Manipulación con brazos robóticos**\n",
        "\n",
        "En esta sección nos familiarizaremos con los **cinco métodos clave** que utilizaremos para resolver una tarea de control.\n",
        "\n",
        "<br><br>\n",
        "\n",
        "![Diagrama de aprendizaje por refuerzo](https://upload.wikimedia.org/wikipedia/commons/1/1b/Reinforcement_learning_diagram.svg)\n",
        "\n"
      ],
      "metadata": {
        "id": "YGXhOLL0FaK4"
      }
    },
    {
      "cell_type": "markdown",
      "metadata": {
        "id": "1U8GvYvzkzBN"
      },
      "source": [
        "## Maze environment: Find the exit.\n",
        "\n",
        "\n",
        "## 🧠 **Familiarización con el entorno de aprendizaje**\n",
        "\n",
        "En esta sección, vamos a familiarizarnos con el **entorno** que utilizaremos en las lecciones **2 (programación dinámica)**, **3 (métodos Monte Carlo)** y **4 (métodos de diferencia temporal)**.\n",
        "\n",
        "Este entorno es perfecto para aprender los conceptos básicos del **aprendizaje por refuerzo (Reinforcement Learning)** porque:\n",
        "\n",
        "## 🧭 **Características del entorno**\n",
        "\n",
        "- Tiene pocos estados (**25 en total**).\n",
        "- Las transiciones entre estados son **deterministas** ($p(s', r \\mid s, a) = 1$).\n",
        "- Todas las recompensas son iguales (**-1**) hasta que el episodio concluye, lo que **facilita el estudio de las funciones de valor y valor-acción**.\n",
        "\n",
        "<br>\n",
        "\n",
        "A través de este entorno, vamos a repasar los conceptos vistos en la **Lección 1 (El Proceso de Decisión de Markov)**:\n",
        "\n",
        "- 📍 Estados y espacio de estados  \n",
        "- 🎯 Acciones y espacio de acciones  \n",
        "- 🔄 Trayectorias y episodios  \n",
        "- 💰 Recompensas y retornos  \n",
        "- 🧠 Política\n",
        "\n",
        "<br>\n",
        "\n",
        "## 🧩 **Descripción del entorno**\n",
        "\n",
        "El entorno es un **laberinto de 5x5 celdas**, en el que el objetivo del agente es encontrar la salida, ubicada en la esquina inferior derecha, en la celda **(4,4)**.  \n",
        "En la imagen, la salida está coloreada de **verde claro**.\n",
        "\n",
        "Para llegar a la salida, el agente puede realizar **cuatro acciones diferentes**:\n",
        "\n",
        "- 🔼 Moverse hacia **arriba**\n",
        "- 🔽 Moverse hacia **abajo**\n",
        "- ◀️ Moverse hacia la **izquierda**\n",
        "- ▶️ Moverse hacia la **derecha**\n",
        "\n",
        "<br>"
      ]
    },
    {
      "cell_type": "markdown",
      "metadata": {
        "id": "3F11h1aHkzBN"
      },
      "source": [
        "###### Create the environment."
      ]
    },
    {
      "cell_type": "code",
      "execution_count": 2,
      "metadata": {
        "id": "OpfNnSqWkzBN"
      },
      "outputs": [],
      "source": [
        "env = Maze()"
      ]
    },
    {
      "cell_type": "markdown",
      "metadata": {
        "id": "HT_Ik1H5kzBN"
      },
      "source": [
        "#####Estados y espacio de estados\n",
        "\n",
        "Los estados consisten en una tupla de dos enteros, ambos en el rango [0, 4], que representan la fila y la columna en la que el agente se encuentra actualmente:\n",
        "<br>\n",
        "<br>\n",
        "\n",
        "\\begin{equation}\n",
        "    s = (row, column) \\;\\\\\n",
        "    row, column \\in \\{0,1,2,3, 4\\}\n",
        "\\end{equation}\n",
        "<br>\n",
        "<br>\n",
        "El espacio de estados (conjunto de todos los posibles estados en la tarea) tiene 25 elementos (todas las combinaciones posibles de filas y columnas).:\n",
        "\n",
        "\n",
        "\\begin{equation}\n",
        "    Rows \\times Columns \\;\\\\\n",
        "    S = \\{(0, 0), (0, 1), (1, 0), ...\\}\n",
        "\\end{equation}\n",
        "\n",
        "La información sobre el espacio de estados se almacena en la propiedad env.observation_space. En este entorno, es de tipo MultiDiscrete([5, 5]), lo que significa que consiste en dos elementos (filas y columnas), cada uno con 5 valores diferentes.."
      ]
    },
    {
      "cell_type": "code",
      "source": [
        "print(\"Estado inicial\",env.reset())\n",
        "print(\"Espacio de estados\",env.observation_space)"
      ],
      "metadata": {
        "colab": {
          "base_uri": "https://localhost:8080/"
        },
        "id": "5rqQBVPfP0Dg",
        "outputId": "e1c67682-ac04-46ab-ace0-25f55284123b"
      },
      "execution_count": 3,
      "outputs": [
        {
          "output_type": "stream",
          "name": "stdout",
          "text": [
            "Estado inicial (0, 0)\n",
            "Espacio de estados MultiDiscrete([5 5])\n"
          ]
        }
      ]
    },
    {
      "cell_type": "markdown",
      "metadata": {
        "id": "Id_veMkskzBN"
      },
      "source": [
        "##### Acciones y espacio de acciones\n",
        "\n",
        "En este entorno, hay cuatro acciones diferentes y están representadas por enteros:\n",
        "\n",
        "\\begin{equation}\n",
        "a \\in \\{0, 1, 2, 3\\}\n",
        "\\end{equation}\n",
        "\n",
        "0 -> mover hacia arriba\n",
        "1 -> mover hacia la derecha\n",
        "2 -> mover hacia abajo\n",
        "3 -> mover hacia la izquierda\"\n",
        "\n",
        "Para ejecutar una acción, simplemente pásala como un argumento al método env.step. La información sobre el espacio de acciones se almacena en la propiedad env.action_space, que es de la clase Discrete(4). Esto significa que en este caso solo consiste en un elemento en el rango [0,4), a diferencia del espacio de estados visto anteriormente.\n"
      ]
    },
    {
      "cell_type": "code",
      "source": [
        "print(\"Acción válida\",env.action_space.sample())\n",
        "print(\"Espacion de acciones\", env.action_space)"
      ],
      "metadata": {
        "colab": {
          "base_uri": "https://localhost:8080/"
        },
        "id": "Mwc_zXxmQy9_",
        "outputId": "258b67a3-454d-43d6-d3d9-e89bebcef277"
      },
      "execution_count": 4,
      "outputs": [
        {
          "output_type": "stream",
          "name": "stdout",
          "text": [
            "Acción válida 1\n",
            "Espacion de acciones Discrete(4)\n"
          ]
        }
      ]
    },
    {
      "cell_type": "markdown",
      "metadata": {
        "id": "dribhLtQkzBO"
      },
      "source": [
        "\n",
        "##### Trayectorias y episodios\n",
        "\n",
        "Una trayectoria es la secuencia generada al movernos de un estado a otro (ambos arbitrarios).\n",
        "\n",
        "\\begin{equation}\n",
        "  \\tau = S_0, A_0, R_1, S_1, A_1, ... R_N, S_N,\n",
        "\\end{equation}\n",
        "\n",
        "Generemos una trayectoria de 3 movimientos en código:"
      ]
    },
    {
      "cell_type": "code",
      "source": [
        "env = Maze() #Crea el entorno tipo laberinto\n",
        "state = env.reset() #Reinicia el entorno\n",
        "trajectory = []\n",
        "for _ in range(3):\n",
        "  action = env.action_space.sample()\n",
        "  next_state, reward, done, extra_info = env.step(action) #Ejecuta la acción en el entorno\n",
        "  trajectory.append([state,action,reward, done, next_state])\n",
        "  state = next_state\n",
        "env.close() #cerramos el entorno\n",
        "\n",
        "print(\"Trayectoria\", trajectory)"
      ],
      "metadata": {
        "colab": {
          "base_uri": "https://localhost:8080/"
        },
        "id": "99AQM-UxSH4P",
        "outputId": "4ca9eebd-30c8-4388-df4f-5d2ab53c72bd"
      },
      "execution_count": 5,
      "outputs": [
        {
          "output_type": "stream",
          "name": "stdout",
          "text": [
            "Trayectoria [[(0, 0), 0, -1.0, False, (0, 0)], [(0, 0), 1, -1.0, False, (0, 1)], [(0, 1), 0, -1.0, False, (0, 1)]]\n"
          ]
        }
      ]
    },
    {
      "cell_type": "markdown",
      "metadata": {
        "id": "rJzFOtbOkzBO"
      },
      "source": [
        "Un episodio es una trayectoria que va desde el estado inicial del proceso hasta el estado final:\n",
        "\n",
        "\\begin{equation}\n",
        "  \\tau = S_0, A_0, R_1, S_1, A_1, ... R_T, S_T,\n",
        "\\end{equation}\n",
        "donde T es el estado terminal.\n",
        "\n",
        "Generemos un episodio completo en código:"
      ]
    },
    {
      "cell_type": "code",
      "source": [
        "env = Maze() #Crea el entorno tipo laberinto\n",
        "state = env.reset() #Reinicia el entorno\n",
        "episode = []\n",
        "done = False\n",
        "while not done:\n",
        "  action = env.action_space.sample()\n",
        "  next_state, reward, done, extra_info = env.step(action) #Ejecuta la acción en el entorno\n",
        "  episode.append([state,action,reward, done, next_state])\n",
        "  state = next_state\n",
        "env.close() #cerramos el entorno\n",
        "\n",
        "print(\"Episodio\", episode)"
      ],
      "metadata": {
        "colab": {
          "base_uri": "https://localhost:8080/"
        },
        "id": "6zM59hUgWvFv",
        "outputId": "beff2bd6-d6a3-466f-d7da-a3ba5f5657f8"
      },
      "execution_count": 6,
      "outputs": [
        {
          "output_type": "stream",
          "name": "stdout",
          "text": [
            "Episodio [[(0, 0), 2, -1.0, False, (1, 0)], [(1, 0), 3, -1.0, False, (1, 0)], [(1, 0), 3, -1.0, False, (1, 0)], [(1, 0), 2, -1.0, False, (2, 0)], [(2, 0), 0, -1.0, False, (1, 0)], [(1, 0), 3, -1.0, False, (1, 0)], [(1, 0), 2, -1.0, False, (2, 0)], [(2, 0), 0, -1.0, False, (1, 0)], [(1, 0), 3, -1.0, False, (1, 0)], [(1, 0), 2, -1.0, False, (2, 0)], [(2, 0), 1, -1.0, False, (2, 0)], [(2, 0), 2, -1.0, False, (3, 0)], [(3, 0), 2, -1.0, False, (4, 0)], [(4, 0), 1, -1.0, False, (4, 1)], [(4, 1), 2, -1.0, False, (4, 1)], [(4, 1), 1, -1.0, False, (4, 2)], [(4, 2), 3, -1.0, False, (4, 1)], [(4, 1), 0, -1.0, False, (4, 1)], [(4, 1), 0, -1.0, False, (4, 1)], [(4, 1), 1, -1.0, False, (4, 2)], [(4, 2), 0, -1.0, False, (3, 2)], [(3, 2), 0, -1.0, False, (3, 2)], [(3, 2), 2, -1.0, False, (4, 2)], [(4, 2), 2, -1.0, False, (4, 2)], [(4, 2), 0, -1.0, False, (3, 2)], [(3, 2), 1, -1.0, False, (3, 3)], [(3, 3), 2, -1.0, False, (4, 3)], [(4, 3), 2, -1.0, False, (4, 3)], [(4, 3), 3, -1.0, False, (4, 3)], [(4, 3), 0, -1.0, False, (3, 3)], [(3, 3), 2, -1.0, False, (4, 3)], [(4, 3), 0, -1.0, False, (3, 3)], [(3, 3), 2, -1.0, False, (4, 3)], [(4, 3), 1, -1.0, True, (4, 4)]]\n"
          ]
        }
      ]
    },
    {
      "cell_type": "markdown",
      "metadata": {
        "id": "nDpBTu8rkzBO"
      },
      "source": [
        "##### Recompensas y retornos\n",
        "\n",
        "Una recompensa es una retroalimentación numérica que el entorno genera cuando el agente realiza una acción a en un estado s.:\n",
        "\n",
        "\\begin{equation}\n",
        "    r = r(s, a)\n",
        "\\end{equation}\n",
        "\n",
        "Generemos una recompensa del entorno:"
      ]
    },
    {
      "cell_type": "code",
      "source": [
        "env = Maze()\n",
        "state = env.reset()\n",
        "action = env.action_space.sample()\n",
        "_, reward, _, _ = env.step(action)\n",
        "print(f\"La recompenda es {reward} para la acción {action} en el estado {state}\")"
      ],
      "metadata": {
        "colab": {
          "base_uri": "https://localhost:8080/"
        },
        "id": "ipKjLHm2sxe1",
        "outputId": "e5106a8e-31cd-4749-c641-2c0756c41bb6"
      },
      "execution_count": 7,
      "outputs": [
        {
          "output_type": "stream",
          "name": "stdout",
          "text": [
            "La recompenda es -1.0 para la acción 3 en el estado (0, 0)\n"
          ]
        }
      ]
    },
    {
      "cell_type": "markdown",
      "metadata": {
        "id": "n3cUQup0kzBO"
      },
      "source": [
        "El retorno asociado a un momento en el tiempo t es la suma (descontada) de las recompensas que el agente obtiene desde ese momento. Vamos a calcular $G_0$, es decir, el retorno desde el inicio del episodio:\n",
        "\\begin{equation}\n",
        "    G_0 = R_1 + \\gamma R_2 + \\gamma^2 R_3 + ... + \\gamma^{T-1} R_T\n",
        "\\end{equation}\n",
        "\n",
        "Supongamos que el factor de descuento $\\gamma = 0.99$:"
      ]
    },
    {
      "cell_type": "code",
      "source": [
        "env = Maze() #Crea el entorno tipo laberinto\n",
        "state = env.reset() #Reinicia el entorno\n",
        "t = 0\n",
        "G_0 = 0\n",
        "gamma = 0.99\n",
        "done = False\n",
        "while not done:\n",
        "  action = env.action_space.sample()\n",
        "  _, reward, done, _= env.step(action) #Ejecuta la acción en el entorno\n",
        "  G_0 += (gamma**t)*reward\n",
        "  t += 1\n",
        "env.close() #cerramos el entorno\n",
        "\n",
        "print(f\"Nos tomo {t} movimientos encontrar la salida, el retorno total es {G_0}\")"
      ],
      "metadata": {
        "colab": {
          "base_uri": "https://localhost:8080/"
        },
        "id": "r2GLRSuGufAc",
        "outputId": "127a87e7-f075-4fb5-a536-d78f9f703c79"
      },
      "execution_count": 8,
      "outputs": [
        {
          "output_type": "stream",
          "name": "stdout",
          "text": [
            "Nos tomo 761 movimientos encontrar la salida, el retorno total es -99.95231485706745\n"
          ]
        }
      ]
    },
    {
      "cell_type": "markdown",
      "source": [
        "##### Política\n",
        "\n",
        "Una política es una función $\\pi(a|s) \\in [0, 1]$ que da la probabilidad de una acción dada una situación o estado actual.  \n",
        "La función toma como entrada el estado y una acción, y devuelve un número flotante entre 0 y 1.\n",
        "\n",
        "Como en la práctica necesitaremos calcular las probabilidades de todas las acciones posibles, representaremos la política como una función que toma el estado como argumento y devuelve un arreglo con las probabilidades asociadas a cada una de las acciones.  \n",
        "\n",
        "Por ejemplo, si las probabilidades son:\n",
        "\n",
        "[0.5, 0.3, 0.1]\n",
        "\n",
        "Entenderemos que la acción con índice 0 tiene un 50% de probabilidad de ser elegida, la del índice 1 un 30% y la del índice 2 un 10%.\n",
        "\n",
        "A continuación, programaremos una función de política que elige acciones de forma aleatoria:"
      ],
      "metadata": {
        "id": "WTY-jzqVTF9w"
      }
    },
    {
      "cell_type": "code",
      "source": [
        "def random_policy(state):\n",
        "  return np.array([0.25]*4)"
      ],
      "metadata": {
        "id": "ICRZI_WGx4at"
      },
      "execution_count": 9,
      "outputs": []
    },
    {
      "cell_type": "markdown",
      "source": [
        "## Ejecutando un episodio con nuestra política aleatoria"
      ],
      "metadata": {
        "id": "mZzNEbfRTY8Q"
      }
    },
    {
      "cell_type": "markdown",
      "source": [
        "###### Crear y reiniciar el entorno"
      ],
      "metadata": {
        "id": "UvfCezhpUQPo"
      }
    },
    {
      "cell_type": "code",
      "source": [
        "env = Maze()\n",
        "state = env.reset()"
      ],
      "metadata": {
        "id": "gSF0UEa_Uqt5"
      },
      "execution_count": 10,
      "outputs": []
    },
    {
      "cell_type": "markdown",
      "source": [
        "Calcular $p(a|s) \\ \\forall a \\in \\{0, 1, 2, 3\\}$"
      ],
      "metadata": {
        "id": "c2u7m68EUUjP"
      }
    },
    {
      "cell_type": "code",
      "source": [
        "action_probabilities = random_policy(state)"
      ],
      "metadata": {
        "id": "yyKtTKedyrR2"
      },
      "execution_count": 11,
      "outputs": []
    },
    {
      "cell_type": "code",
      "source": [
        "import matplotlib.pyplot as plt\n",
        "object = (\"Up\", \"Right\", \"Down\", \"Left\")\n",
        "y_pos = np.arange(len(object))\n",
        "\n",
        "plt.bar(y_pos,action_probabilities, alpha = 0.5)\n",
        "plt.xticks(y_pos,object)\n",
        "plt.ylabel(\"P(a|s)\")\n",
        "plt.title(\"Politica aleatoria\")\n",
        "plt.tight_layout()\n",
        "plt.show()"
      ],
      "metadata": {
        "colab": {
          "base_uri": "https://localhost:8080/",
          "height": 487
        },
        "id": "gD4PP4OzzLEk",
        "outputId": "9e55b08c-cc28-49fd-f78e-2ce96d1a645a"
      },
      "execution_count": 12,
      "outputs": [
        {
          "output_type": "display_data",
          "data": {
            "text/plain": [
              "<Figure size 640x480 with 1 Axes>"
            ],
            "image/png": "[encoded data removed]"
          },
          "metadata": {}
        }
      ]
    },
    {
      "cell_type": "markdown",
      "source": [
        "##### Usa la política para jugar un episodio (Esta celda ha sido actualizada, lee abajo)\n",
        "\n",
        "Estimado estudiante, para mantener el contenido del curso actualizado, se ha modificado el código para mostrar nuestra política frente al entorno.  \n",
        "Esta función funciona de la misma manera que se describe en el video, la única diferencia es que ahora guardamos una captura de pantalla de cada estado en la variable `frames` y luego, usamos la función `display_video` para convertir esas imágenes en un video.\n",
        "\n",
        "<br>"
      ],
      "metadata": {
        "id": "7X9hKzsmUdYo"
      }
    },
    {
      "cell_type": "code",
      "source": [
        "from IPython import display\n",
        "state = env.reset() #Reinicia el entorno\n",
        "done = False\n",
        "img = plt.imshow(env.render(mode='rgb_array'))\n",
        "while not done:\n",
        "  action = np.random.choice(range(4),1,p = action_probabilities)\n",
        "  _,_,done,_ = env.step(action)\n",
        "  img.set_data(env.render(mode='rgb_array'))\n",
        "  plt.axis(\"off\")\n",
        "  display.display(plt.gcf())\n",
        "  display.clear_output(wait=True)\n",
        "env.close()"
      ],
      "metadata": {
        "colab": {
          "base_uri": "https://localhost:8080/",
          "height": 406
        },
        "id": "Ypon8OGc2kyV",
        "outputId": "d83acdb3-68dc-44d7-c0b0-cf617e23c0a0"
      },
      "execution_count": 13,
      "outputs": [
        {
          "output_type": "display_data",
          "data": {
            "text/plain": [
              "<Figure size 640x480 with 1 Axes>"
            ],
            "image/png": "[encoded data removed]"
          },
          "metadata": {}
        }
      ]
    },
    {
      "cell_type": "code",
      "source": [
        "def test_agent(enviroment,policy):\n",
        "  frames = []\n",
        "  state = env.reset() #Reinicia el entorno\n",
        "  done = False\n",
        "  frames.append(env.render(mode='rgb_array'))\n",
        "  while not done:\n",
        "    actions_probs = policy(state)\n",
        "    action = np.random.choice(range(4),1,p = actions_probs)\n",
        "    next_state,reward,done,info_extra = env.step(action)\n",
        "    img = env.render(mode='rgb_array')\n",
        "    frames.append(img)\n",
        "    state = next_state\n",
        "  return display_video(frames)\n",
        "\n",
        "test_agent(env,random_policy)"
      ],
      "metadata": {
        "colab": {
          "base_uri": "https://localhost:8080/",
          "height": 521
        },
        "id": "sm6b-EFM9Hn_",
        "outputId": "f6f661cb-095b-4868-a185-3be734ef3e42"
      },
      "execution_count": 14,
      "outputs": [
        {
          "output_type": "execute_result",
          "data": {
            "text/plain": [
              "<IPython.core.display.HTML object>"
            ],
            "text/html": [
              "<video width=\"500\" height=\"500\" controls autoplay>\n",
              "  <source type=\"video/mp4\" src=\"data:video/mp4;base64,AAAAIGZ0eXBNNFYgAAACAE00ViBpc29taXNvMmF2YzEAAAAIZnJlZQAAOsFtZGF0AAACrgYF//+q\n",
              "3EXpvebZSLeWLNgg2SPu73gyNjQgLSBjb3JlIDE2MyByMzA2MCA1ZGI2YWE2IC0gSC4yNjQvTVBF\n",
              "Ry00IEFWQyBjb2RlYyAtIENvcHlsZWZ0IDIwMDMtMjAyMSAtIGh0dHA6Ly93d3cudmlkZW9sYW4u\n",
              "b3JnL3gyNjQuaHRtbCAtIG9wdGlvbnM6IGNhYmFjPTEgcmVmPTMgZGVibG9jaz0xOjA6MCBhbmFs\n",
              "eXNlPTB4MzoweDExMyBtZT1oZXggc3VibWU9NyBwc3k9MSBwc3lfcmQ9MS4wMDowLjAwIG1peGVk\n",
              "X3JlZj0xIG1lX3JhbmdlPTE2IGNocm9tYV9tZT0xIHRyZWxsaXM9MSA4eDhkY3Q9MSBjcW09MCBk\n",
              "ZWFkem9uZT0yMSwxMSBmYXN0X3Bza2lwPTEgY2hyb21hX3FwX29mZnNldD0tMiB0aHJlYWRzPTMg\n",
              "bG9va2FoZWFkX3RocmVhZHM9MSBzbGljZWRfdGhyZWFkcz0wIG5yPTAgZGVjaW1hdGU9MSBpbnRl\n",
              "cmxhY2VkPTAgYmx1cmF5X2NvbXBhdD0wIGNvbnN0cmFpbmVkX2ludHJhPTAgYmZyYW1lcz0zIGJf\n",
              "cHlyYW1pZD0yIGJfYWRhcHQ9MSBiX2JpYXM9MCBkaXJlY3Q9MSB3ZWlnaHRiPTEgb3Blbl9nb3A9\n",
              "MCB3ZWlnaHRwPTIga2V5aW50PTI1MCBrZXlpbnRfbWluPTIwIHNjZW5lY3V0PTQwIGludHJhX3Jl\n",
              "ZnJlc2g9MCByY19sb29rYWhlYWQ9NDAgcmM9Y3JmIG1idHJlZT0xIGNyZj0yMy4wIHFjb21wPTAu\n",
              "NjAgcXBtaW49MCBxcG1heD02OSBxcHN0ZXA9NCBpcF9yYXRpbz0xLjQwIGFxPTE6MS4wMACAAAAF\n",
              "O2WIhACf2WdBBMcSgR79PWMxFJhtRQC+1MOxfqRffl+BIGYSpbn04L89reMR6l2wAAADAAADAECn\n",
              "OiagH/jHhnJs3HXkrrQfF5oa8HLd82/vrqnbi9C9vrFggyET+x4Q25j0yND/U4k9M1R0FXm6Lrv0\n",
              "aD/rR83P2BK20vKWX+HkwEbSz9RfrXptVXY+5G7HyoGY9chS34e75Txzfpq1RM27zE3s57b38aFj\n",
              "OwhgHj8mm2atPwNkg4hAwFSzsniDIH8qSE0T53iuwAAtKIh4WMRbun/zLDNoQuHQzqmHVdi/rYAl\n",
              "Mz0LAJRandnpPLXpJFS8GhVIL6F/4qY5TzLbU+4ngN6n+AxypB/HWYjb1zswRIlZTkd94CTZ28zT\n",
              "yYdQYAAHYPpb35/0SY6DvZy+cyNaGTFPrx71lgnjQXQus4i6sxNar7/HV9zhocYfMOuIf1ZxWSQp\n",
              "OlfhnNJqIBBPiqQRUwJ9sR7JKaJr7GOXnvUQTbLUyPKprS5ktz5f+0CxWgBcwqKy9+3yCDQu/qZb\n",
              "I/ZFtPlwCcBd4pjSHasnFHxBF+bdFKtoDFy8+IODzhN3kMH6RB5V7jI1WJyOsWgsEA2Lk/lUIPKF\n",
              "5d7u0vIKv/orJcUACRkEsv45H5nRR1K9urAcHkqJzD9HupW2BHfBcU1LGUNBgZ+H0uP9Ajp0CgyH\n",
              "AYbVARG29PZtWk1DOvPfhMI+DZMfnUeBGLgx6Bqfzk0EH9oyS1ON8z9PHHu5Y9MAlGPi3MkEM51a\n",
              "R4xTfdjyvm+T7TX8Cp27UkbqULc7komwla6GkjfRbj15wHPu3sD/k4SfWpq5Y9nrPpRoyzidGtLV\n",
              "7JU3bqPWyqR9Eq4NZPY8gh8DAGEI/BgQyZ2xHd/2Go+iVHCY6wCvBHwf4XTpZ42ENJ/BjEFX5573\n",
              "yV3pB1pr/azNyzw5cxYQTg9xRJiiDc0y6Zd4gB+1IXzljn+9Y00BrMe5kyJIy+GxBpgdICTwTvFW\n",
              "yIILs7mP4v4uknP0IKJhpC3pXyTTPfYToCRbXc0eaA4NlIAv3MCuT8XGvXfNTlJX6Jz9OYS3hIQE\n",
              "ZmnZIC3q+BEXI67MNfomXiBdqnu07KSy6qZijmFb2A15i5dJYtt23I0XaJvm/EVtzoVvjLhkfckR\n",
              "2IOcwCuLEUhdH96JGtOTvJVpcD5EYuCUgV52jXM43ki3vhnAEmCjjpUHg9HOvvcP4m41ZzWXo4U0\n",
              "8XglFAsdbzYa4/E30WX76Z936bz2/Ffiyd5dAAAJDuEk5lKNmMssq0Ae7x4k34aNnmtzamoZFt//\n",
              "YVSBT2i1/K1Zbc1u5PdVhH4GA9XZtfirGIXTKVvFsb0KL6UTkW3YP5jrinmdbN0/7QSHNOyq5Jt3\n",
              "1dPrG1+4+Ek8qrMz3mN1DSpjTngaIEZ04v0+r+a67wxR86yt03rRHo+S/eUNbtRYmoV6YV+OsLt2\n",
              "I8H+DiSY3DInekHp96iCnvPhgZ2MCAEH11KopyGIXZ6gBT/gUP4FeZMfrxxevj2frC21hWYcVq/Y\n",
              "+9nz5RcZv9bRA7femgYPxSxEX7kWIt8bcWsDVuWxAdtDgZn8tYdOhx6s1kzt0OjyLNgAOXJVN5vq\n",
              "BT+J2TnRLVQ7lHLY5zltm0lY+5u73i/k4UTXTN0reqO6ZoBxMYElqrPxeCS0/en6Ukek4FN3bbBH\n",
              "EaGiESxyM8HCoHMuVirGUPvYZ32MMxp4bl1v55BAsNGHhW7miIIfjwbSaSg2izy0kOZ5mhOCgclv\n",
              "DtMDkrAegFnHX9Xhgl11on0gBkA16H68Ou0Bm9EAAAGMQZohbEn/AB3jetWDZBHGQ3E7K3zM7TIx\n",
              "NpgEP6EJ/7Fc163aVvRiSkXvQnSUTW/fiJREkd9Bw5GlejsJ8+etI/EY4iPNRw04INIuWNBWMcxB\n",
              "P/Gi7nrJ4unu935NlcHF7rT8YHRboWay3wFZMd45Wqm8ZZKquNjnDHSZ1Er1o9ZyzGpnv9VRItmn\n",
              "SsXL+MthwkYQWmWkXGp6KMkEpps7QrnuStPNSzVRZH+J9Jk93RvOWrmYE8CI4p6GDi+8uvF1OESN\n",
              "5RkGGvEXj82yX6qZj83kLFUFTvZFf0Wi0hFDUEihFG2f+ySEb2sPJIPunjCRK9lJnZU0lEqM2tik\n",
              "YFHg0qVxdf/1REl/Q95hFdUOhVcGBO1jSDEjYlC67vHyaeB/kv243ivgE2zvzAxYbUPZvCdWGIAs\n",
              "ZuQgITiEjM1W/SWB0OOPBYCndUHhl79wAAcgqfZMH1DvvXjFTsF5xF8c4jwSKm6p+hbJHdaWLjaF\n",
              "fIgJyS+GBovjfHyXG92ZqdgAAAMAAAMCKylUAA2YAAABu0GaRDwhkymEnwAAIDncIA34NnYrjswh\n",
              "4R6+YjpzSgHRBsJV8PCWu4mlyMD6YR/hh6xeGHYTN+e7r7XGfZ0JF8lgleeaGHg22j1zKVS8meO4\n",
              "jvdtfm/fxx2LMaaDKMK1yAndVFkNd+UJbJvAKRJMuhpZoi+6Zn+7jt4FX215zcFIMNGmBuwVlqEt\n",
              "8c9ccalvDsdcmwYS0U8wtA20gsKLiFs8QUmh4DWv2GzUKc0Y90I8MeQ+v34Ou9cNm0boKlO8wgEq\n",
              "q1zL3+5uX8B98Y5UZWuSpBcgHXBqyYJJylen2nfj6TplvVYn2r0HRBavZNotch6WOT/b8TBkqqK0\n",
              "t/OvDh9CXYf44pzYDtZ0ruqk/D43iCIdGyV4DKhEqMaTw6hChiq2BIpQiZ9zifWu0yM3RsEcSp2G\n",
              "6a/lR1k8xmBDfDBFcgDlqn5PX+wziezdNGa9h9hVIS2/EbTvw1Jh7no9Xf0xpej9ehiSvORbHqJC\n",
              "C+RF2fAhwsufnS+eQIPLhLD2iONIiiJK+FcHuSJ5Xacz+A9vIKlj10dsM+J909T2/7OL9jwJLpJs\n",
              "fdoGgIC3ZYUsWQlore96G6wFgAN7AAAAMUGeYmpTwp8CDWB5SQACRO2APb0BAdYD1xaWd5iPbNtZ\n",
              "iQZKsj2lfnMHAm7l2TgAAccAAAAjAZ6DakLfAh13wOq+A0zNBFL/PdQDGr+8OFtzCDWQWYQAyoEA\n",
              "AAGdQZqISahBaJlMCT8AAA56/Enr/r+7TnDfyt/Hx8YFdQVFFPvkN77u09u/jBCbnso6OLZCFcAA\n",
              "AFDoIZ2f+Q303Eqb1nmyQqsbmSSW1Valuu6QNH6Q3QG5rWqCJuKnMGLcvrSP2vFxiAZSa4bpBYj+\n",
              "OIim/jFquqZCPINq1vA9VGZYY9AqIwOuaUfUk2LTSWzttJ3loX/64G1ok8x/6/ADZJZ9yrcMvHIk\n",
              "eCJGMZVXq6QtEPU8Lxk5dgjhxMyqP+oW8FTqQyo2d1ASGsupejPmrBs8hi/UBDh8l+zUhuPGi2p+\n",
              "WM7ObblNEp7/+wB60RVU01FX3hHPJxDQSwto5RKwgC+QfGhmy7x7Dj+/lW4w8FkxQJm/y67djB7p\n",
              "btVJKD/JpEi4J//iiV53gpDNbP8WWGLI5c0ZUXum+cirxlFrwXHXlcA7gxwE6pCw43A2iSGx1TdK\n",
              "KSV3yC/IUxsb7egv8/KeBcsgmXlTIpysTGTRFDf9W+u31H/dGWE936xUP6ncPIJKpZIlro9j63yI\n",
              "SVY14xGQ33+6jEXAEegA9YEAAABEQZ6mRREsJf8AAMYAD1HcIoFaKKrfECE8r+8BmDu713lXm7gK\n",
              "bOGjx1jpquQay9maUSlAGsMQIfmnU5vAe2/rajIBC7kAAAAcAZ7FdELfAADaAAb3xc2kzcykst4C\n",
              "atPTcrAyoQAAABgBnsdqQt8AAAdjuCyKF7459gGxBnwAJeAAAAGEQZrJSahBbJlMCT8AAAMAAG0/\n",
              "ynSW0dVcci4MNVMI9ceiDpq2EB84H9VKhV2Fy+nRVOso9jheVAxZ8qQJ9fPyexFAkPegr/yw/EHy\n",
              "2IuPu/840Rf53ig9sw8fVEei+wKFaJiDVr29BQjo91gMXcEiBKPSGr3RB5B0QTDIqilwjyG1Q5lT\n",
              "zprkrQxx+97ZNIhFHTTBW4BNu6MR679V118tzlp8nxQtVIesNTxai6egUPOU10YSIDNtiSx1mN6d\n",
              "RQnB1WUZtWIAQzrJRj7ZzHgD860vNgYtSAql5wWSG75k3ucSAVoFmr13cegQFdTMJRNnuTiJV9uz\n",
              "GnWXbUHMN3CTC0wgWb2zr4VoVt+AnurLm+7cUz5XfcoB/hUjOQLux6ExdhKqtCTxC88VavLZQ1j/\n",
              "wLAwW6ILyjl/BHqVpLmrHWfiXAbLjw5XB/DzPz2g+L+VrhdY7rCvSPMHOGmmrm1LQPONDBOjdm7y\n",
              "goLJOovO+422GzmI7o72ppwRocjonNx6zgs86AAAAXpBmupJ4QpSZTAk/wAAAwAAAwBb/9hO9QCP\n",
              "4K0Sqk4wZtfvMvsW/7rb06maLLIJY+vHq/A35/HVEn4g68etF0cW9yzTFsvKVUgc4Gkt8yZRbCcq\n",
              "7KZn6Yejyx8bkq6KraS/Hx5J2scoZ2wqKtPugabU4VKxbcOPhlwcqsYPDF5y4we2WPDs85PevVpp\n",
              "/F/UoHHdVA4zru/oaeBo+koWZlF3A/TeG+N7endHCn/R2sQ82wO2Ts4yT4QKNOrOmduIaASm6gFC\n",
              "w2gjP8b7uxIAFRxPvHRozQC2UvhlQOHWvpKcxwVxCPXuWRBAzDqJFrx7rDsj27B2GS2iuDSwmSxr\n",
              "14RNitGOCHaYk9Co7fEg0HtYJFwD1J42NI7R1wuzR0jGUf0oaFCrGagpgEOFrLf7umKgxAgzn1oU\n",
              "DktilQG09DER0OOLJpyv8zn2j7TGK02iLzVggmB91TEaC8mzNP2SeBisVecicS+EuUw64wjXUyyJ\n",
              "8YcT9PRwDWhkqYEAAAGUQZsLSeEOiZTAk/8AAAMAAAMATn/UI4Hg9ZBvekv3k8vKiJhM2gOAmB9g\n",
              "m23SRFGMcjpi4+h+oHquQt6l6LE2h4rpGzGB0yG5jiQqb1bSi+kKzHUCv1GQdpNT8xxYcKlgv1Dm\n",
              "jZCgaIA/VaEE7ILY14WyK1BTu3EItXRh28Lbeqv46dOf0Tn17WPfXsw6gep2EgnyMkLxkAbq1Dwi\n",
              "1NhCezDygO7aARpS8R75BDn8uaWOwWzjSdNUCvAz16QG9ENtyLHsK9JjRFe6C7NPd5wnJRT8iXsP\n",
              "hnTARh1s3pVp5HgABqptvdO9lq2KDjdMTXYCV/OFKKt+Xx9K8G8etB5LP+vmGmyPzlptBGbf8bXA\n",
              "Rf/cANlu/J6XUZcV2QBRO4G+SPhPzxW5fOb1PModAFONMGxy9afikkw1VN5mF4LO9B3I93Yg2WSj\n",
              "+JjRyUIFIUU7M1gvGNnJ+U/ypEFx3ogK1PXf9i93ndkevkaii69Q6dSazLQfudyPhk3XKPLy3DZw\n",
              "vwFgfNDHcru4dFXzfghs+uHngOgAAAA9QZssSeEPJlMCTwAAAwAAAwBNkkRGnijwa0OA7gQ43Y0b\n",
              "sgirLzbLJb7Hw2Pg2Zjk11m7AAK83q0+kSfBwAAAAEFBm01J4Q8mUwJPAAADAAADAE5/2E+TZQzM\n",
              "tP1WDEVbnSCfPPSAhZXPEBahGgUQXhC1niTLxgt/DRJWlAoU+zbeJQAAAaNBm25J4Q8mUwJPAAAD\n",
              "AABOeWNRF2/jBCbnso+YNEs+h5L7X122bV+VzEk+Au2afgKo9+9jnszneokqTxTOK6RvefT6POy/\n",
              "fKstB5s+op/SHvraM/FM6h+W96pSD+84WSsAPQNCWkFN1dcQyoJ5lckyr9H8H9j6lIXxyXVqjjGB\n",
              "UXQZb193q7pggIAvLDYNXaKIpYZzJwgs13P6Yc0XLmxjwrgaqgxbJw441SzH6IZRPS91L8Lp3NRO\n",
              "8U87iFZfz0I1/jzg8NDutq92lAgfAPC9Vpd+fMA0zzLtZkYdmdmMvdcGkIDBYWCV9sMQCp+YCTMu\n",
              "PDViXJAt/zdfTv1hRe1GbZjVTOhlueB93FCVGUAa+UWDJNs716JO3xPn4qDTJ0mi2Q9V5mbc69ri\n",
              "4e0SwN0ubglc/Qb+CG0JHM41HmXi4KXSqnZyB97lQu1uI81U6XZu+juyOaRbIp11WgUnib1CI4J+\n",
              "RnebOFc7r+wShV0RSabwhenLY9xKK4gZXn5lj0CzXBAzGf667wNPhY9O0D/3NXbxiJ0AKLY1dFVz\n",
              "NLVIzI9/KwAAADtBm49J4Q8mUwJPAAADAABNktvLdmOK6FUoPVmOHd9PN4vsKZwyVAlL4IRZeZNV\n",
              "FNKWahlObj5IS+TjgQAAADpBm7JJ4Q8mUwJPAAADAABNktvNTGtrlQ7E7Puet9mWDn2FxCj5QwhY\n",
              "QaDiKDN0kQB2/kbitqDAWPSoAAAAKUGf0EURPCn/AAADAR4IsLwgOWXiSBVJ9/s3wR2XZF0yh0bS\n",
              "6qf/p2IeAAAAFQGf8WpC3wAAAwEtxTjM5jf3PkAxYQAAAERBm/NJqEFomUwJPwAAAwAATZw4pjce\n",
              "Ptnj+XIHpJz8G0R2tWT8EcIK6bhiT99SJD1YmWKVs8DV8mas0biAs7Z+YIrvIAAAAXtBmhdJ4QpS\n",
              "ZTAk/wAAAwAAAwBNSbX6qTjBm1+8y+xb/utvTrOohTpNHB0yVmBvz+OqJPxB149aLo4t7lmmLZeU\n",
              "qpA5wNJb5kyi2E5X7cICc2pD8sfG5Kuiq2kwIDJedDX0BbYVFWn3QNNqcKlYtuHHwy4OVWMIzyFe\n",
              "JZS67gbOuVqVvXq00/i/qUDjuqgcZ13f0NPA0fSULMzPBAc5PP+G9vTunlMTbxHHe6zJc75hxknw\n",
              "gUadWdM7cQ0AlN1AKFhtBGf4339bWVDrPm6FtleAzQC2UvhlQOHWvpKcxwVxCPXuWLf43ONRIteP\n",
              "dYdke3YOwyW0VwaWEyWNevCIoAOzTq0ijk9Co7fEg0HtYJFwD1J42KNhULbXZo6RjKP6UNChVjNQ\n",
              "UwCHC1lv93TFPvvTAnhKaByWxSoDaehiI6HHFk05X+Sb8ODAc/dl/G8bGmtgfdUxGgvJszT9kngY\n",
              "rFXnInEvhLlMOuMIyj1KefGHE/T0cA1sAAt/jDegAAAAPUGeNUU0TCX/AAADAAD7NeAM+35143Uf\n",
              "wOMDB+6RINEn3arAFKNtbtNfCEVT/OJ/TJ1Xy/1Sy1LytO5AyiEAAAAjAZ5UdELfAAADAAEbWgfT\n",
              "fcgAVNJSIkS4Gc5OCy3eRQnkAmQAAAAbAZ5WakLfAAADAAEUZKsjsWab/FxYvQrVRP/TAAAAOkGa\n",
              "WUmoQWiZTBTyfwAAAwAAAwBOf9hMpvoQ+wWbZ6pVEwxsNYY2twvJCxl8JJ0sUSSdrjg7XZSsvIEA\n",
              "AAAcAZ54akLfAAADAAEZAAdSCt8TnHaDpuwfvBMoqAAAAbJBmnpJ4QpSZTAk/wAAAwAATnljURdv\n",
              "4wQm57KPmDRZCubm2pJ0iDccQ999zEk+Au2afgKo9+9jnXO/T6JTaO3U9lI3vPp9HnZfvlWWg82f\n",
              "UU/pD31tGffaz/H8510+D+9ORXVQ6GqgaEtIKbq64hlQTzK5JlrbCOaG749AgLhbsKw0AqLoMt6+\n",
              "71d0wQEAXlhsGrC2YyTn0BTvrHCOeUPEf2bGPCuBqqC7W7GmrqElYJBts/pe6l+F07moneKedxCs\n",
              "v2SJYxFmmC5Lwwllm40rOdh4Z/2MVHJNwCFDz5I4G2Z2Yy91vI3wEs+p1ogGcQ67WRTZaeGrEuSB\n",
              "b/m6+nft6bG5y27ESjiFbngfdxQlRkupOxrTweIsQ8GaS9rHoiLUZchQME6rzM2517XFvbcKtBdC\n",
              "u2qWtkb26JHM41HmXi4KXSqnZx7tLN3OynAoSj2SzCg7WDNm0yxzh11WgUnib1q8v4qFWNbVwM4K\n",
              "boQgNxv6bwhenLY9xKK4gZXn5lpqRtF1VaIrALWBp8LHp2gf+5q7/gzV99UGIj8QKI4vU4LjBoBJ\n",
              "ZeV3nveAJIxGUNj6QQAAAEFBmptJ4Q6JlMCT/wAAGGofGRDgSNeVoP3Zy0Fbilx8iAkHNTpUBmAA\n",
              "KLVzrcWzj9mCGeuNq+PgT5lK8BMJiu60BAAAAX5Bmr9J4Q8mUwJPAAADAAADAE1JtfqpOMGbX7zL\n",
              "7Fv+629Os6iFOk0cHTJWYG/P46ok/EHXj1ouji3uWaYtl5SqkDnA0lvmTKLYTlftwgJzakPyx8bk\n",
              "q6KraTAgMl50NfQFthUVafdA02pwqVi24cfDLg5VYwjPIV4llLruBs65WpW9erTT+L+pQOO6qBxn\n",
              "Xd/Q08DR9JQszM8EBzk8/4b29O6eUxNvEcd7rMlzvmHGSfCBRp1Z0ztxDQCU3UAoWG0EZ/jffypl\n",
              "CaqAlSUWgShmgFspfDKgcOtfSU5jgriEevcsUPeDikE7Y9+d22btuwdhktorg0sJksa9eEUQwOSm\n",
              "F7Qtk9Co7fEg0HtYJFwD1J42IUjNsKSK/x/scid9Afs7eATa5znC1lv93TFOV3TAjAX6rktilQG0\n",
              "9DER0OOLJpyv8gH4cGA5+7L+N42NNbA+6piNBeTZmn7JPAxWKvOROJfCXKYdcYRW2ZU8+MOJ+no4\n",
              "BrYAAvmPZ22FpAzZAAAAREGe3UURPCX/AAADAQaJaTNS9poNHJ2p7qCzhudgMfCZOysGhRbac6Ua\n",
              "34AKgcdOKGY7WeqNQAoEEAtDjR8l+PBK+WrBAAAAIwGe/HRC3wAAAwEhUtUnBlo3aAEhOdK2Z1aA\n",
              "xusnc2DCOor4AAAAHQGe/mpC3wAAAwEkfEmbG6JOBznINgGq1qCHN3EWAAAAOUGa4kmoQWiZTAk/\n",
              "AAADAAADAE5/2Eym+hD7BZtnqlUTDGw1hja3C8kLGXwknSxRJJ2uODqma7/iwQAAACpBnwBFESwp\n",
              "/wAAAwEdu+0qsE/aWFZ95i5FhPPS9TayZB9If7OMmfHZ1qQAAAATAZ8hakLfAAADASR8SY3DdtEd\n",
              "OQAAAalBmyZJqEFsmUwJPwAAAwAATnljURdv4wQm57KPmDRZCubm2pJ0iDccQ999zEk+Au2afgKo\n",
              "9+9jnXO/T6JTaO3U9lI3vPp9HnZfvlWWg82fUU/pD31tGffaz/H8510+D+9ORXVQ6GqgaEtIKbq6\n",
              "4hlQTzK5JlrbCOaG749AgLhbsKw0AqLoMt6+71d0wQEAXlhsGrC2YyTn0BTvrHCOeUPEf2bGPCuB\n",
              "qqC7W7GmrqElYJBts/pe6nKF07moneKedxCsv2SJYxFmmDVH3dPcfVo+Rp/RvTsYqOStcTcuvCRw\n",
              "Nszsxl7reRvgJZ9TrRAM4h12sinu48NWJckC3/N19O/b02Nzlt2IlHEK3PA+7ihKjJdSdjWng8RY\n",
              "h4M0l7WPREXGUPnVsh6rzM2517XFvbcKtBdCu2qWtoCMIaZwAjQo8pKfI1J+UeMFM2DRL0/LXtHb\n",
              "fdrVq91ZMZY5w66rQKTxN61eX8VCrGtq4GcFN0IQG429cYIXpy2PcSiuIGV5+ZaakbRdVWiKwC1g\n",
              "afCx6doH/uau3fQ5w/SQB//pX8+3hPOYWAnmBDWWzAAAADdBn0RFFSwl/wAAAwEFg+cvAI6ShM3L\n",
              "oekm2guDMXKOuxFp7OMZPK3KOLhQha70lot+XQ2AEJRdAAAAIgGfY3RC3wAAAwEmvRq2LG3U0TJx\n",
              "NORGmgdMP5v8x4742XcAAAAZAZ9lakLfAAADASa9GryA15bt8O6ABHQXcQAAAaFBm2hJqEFsmUwU\n",
              "TJ8AAAMAAE2cSZpjT+9v4wQm57KRxeyp025nvtydK/L9+VUPdQ/qbBNzrI0xi+VxoxYxyF1DZVR9\n",
              "oj+UNxfF6u6jvvJpQGorswYvnKyqN2c2oRm0ZKGjOHjkBAUJzIY4+P/cR/MfxOMlj5bjI2INfiLc\n",
              "uBpyTw+Dxwj8mCT5XouVeN3PnxFOcfQTAmxvUMWFilI2/yVatRwSMT3j+3IM0O3+DY+/uDsO11QZ\n",
              "svBVhnsEh6/ofB5jYB2IDLW/KSgzDOK4O/NLdkTVMxfRaPhIZu1klUePMaePHkXDWwNCJGsbGulF\n",
              "yDjLe4HP3xA5wMLbydNRzJgSdKbH1tuShLpdfaCWh4gzJhxemJEYkbI7gDvrDgvHQAu9IzWvUa0C\n",
              "LdH2IenAaRvSMJNslFNtKEFKQ/b/xiJNxwd5zeCHqA17v7Pe8vbuWTpUh02MTQ1JEWW8JZWaQPN9\n",
              "3rCqyhDkNtZnH21mKo0sSodEoZuwiRgqhCGl2caqn4NsF/1kOi2kcL4NveDFtoA3svufnO94tq+m\n",
              "xj3C3sGADBkAAAAuAZ+HakLfAAADASa9GrQe/N0E08BOAgm3besYQyXTP/BSx4OcKQIjzPjchgWD\n",
              "TgAAAZVBm4lJ4QpSZTAk/wAAAwAAQZMAssau/b+MEJueyjo4wYvtUSP7zl3MouqJ9h8rEqb1nmyQ\n",
              "qsbmSSW1Valuu6QNH6Q3QG5rWqCJuSk8AyXeFSP2vFxiAZSa4bpBYj+OIim/jFquqZCPINq1vA9d\n",
              "GRmS3ZKxgdc0o+pJsWmktnbaTvLQv/1wO3aqodKv4yb67be5VuGXjkSPBEjGMqr1dIWiHqeF4ycv\n",
              "NDuQ2bE+EgqvwUNfKmlB1ZWG7iw62wr0Z81YNnkL0AQLhhGJ2VtQFY4r3X9MlD3oTObT/pRshuY2\n",
              "ZrgVCKvvCOeTiGglhbRyiZSQcAhVV+eQZWXxLvHsOP7+VbjDwWTFAmb/Lrt2MHulu1UjjKhF5iVy\n",
              "+keKJXneCkM1s/xZYYsjlzRlRe6SGJoPv4ewW468rgIJkCjXraPqQsONwNokhsdU3SiklJcYX1y8\n",
              "QDJqguxoZh7TCIhMt7sinKxMZMxfgn2a67fUf90ZYT3frFQ/qdw8eHkQNhLXR7H1vkQkqxrxiMhv\n",
              "v91GIuAJAvK+Qz4AAAA/QZuqSeEOiZTAk/8AAAMAAEGS/sjof5gXLwbp5lNah3UcV61oCy98J4AE\n",
              "xVz0Je6ge9ellqFYJk54gXhUbqMHAAABx0GbzknhDyZTAk8AAAMAAEGS2yx15dDCNe/ZSPb1spvU\n",
              "MnUcQtUSVZvbvskalGerXuvBcbb9PovV0luaTLFpaeX5j+0QOqT+wJeqWD9mFY/CSowYf/XpqDCn\n",
              "batA3i1Vx67dcakpiwemMRKmdsuj8/BqZPJbqwl1obg5MG6/YY2c+mEkWXayTwRfE66Gnc1K9XEx\n",
              "/eNGvEiXls6N4jFLsHFjp2SfDc69J1yTN/sdrQJKb115mD9YaYt1/7FHRT6bTQNfn617aQUHQWx2\n",
              "P3DYR5XIgN523VPaILBXwvV7AbA+2Mm/NIqeuMK4VLABUtbSXi402F+cQX5Qwyrrx7AzPTzwUqlG\n",
              "lPkywmr5TPdfQCafCFBL9tT3kthVsR4gN2SqeNruFxJxe1OY4xu6q0Q4iRv0f+d1+8N3iyy8++rI\n",
              "nwwJKh7NDB8dOE+Dr61qeYgRK0UER8+WINSeHO47iArzMimYe7/n1MK2jhyUymHey+OZL7SmfRr9\n",
              "xdn/pD8hKm97/b7d3K0uXv51+3Z7e66T1do/KsVuqi4PT7ap+Qy0NVxlTmoqUM+4APQqgY9x/ZGH\n",
              "B4Zy+gl2VVXYZtzD3gEUbcJ55t28GYBYAAAAMEGf7EURPCX/AAADAN8F5ZkEspIS3oxj0W9tKtTc\n",
              "dYRO4/VhHQRb6eP2VLWlFqsLgAAAACEBngt0Qt8AAAMA74pPDqi2TYo8yucy0ttOCsNxis9r8q0A\n",
              "AAAaAZ4NakLfAAADAOzScx5KoF0qCScHzS9OXbEAAAA2QZoQSahBaJlMFPJ/AAADAABBnDhuWBIP\n",
              "BbPpVo3luYzwonvmeZ0+oTzYSF/xkDagdh0wsWDRAAAAJwGeL2pC3wAAAwD3X0IjAlkhG0dmDPXK\n",
              "4BGa5e7X/MTIff9lBBfwiAAAAaVBmjFJ4QpSZTAk/wAAAwAATnljURdv4wQm57KPmDo0APKV4K32\n",
              "tdIg27m1ffcxJPgLtmn4CqPfvY51zv0+iU2jt1PZSN7z6fR52X75VloPNn1FP6Q99bRn32s/x/Od\n",
              "dPg/vTkV1UOhqoGhLSCm6uuIZUE8yuSZXmwjmhu+PQIC4W7CsNAKi6DLevu9XdMEBAF5YbBqgtmM\n",
              "k/nvd4C0QjnlDxH9mxjwrgaqmjzqPJjAZRbOClED5p/rulUNCz3U5Qunc1E7xTzuIVl+O6WMRZpg\n",
              "1R8UIemchJRrwPDP+xio5K1xNy68JHA2zOzGXuyiQAen1Wrc+p1ogGcQ67WRT3ceGrEuSBb/m6+i\n",
              "caOn+px3sRKOIVueB93FCVF/imEfNwSK55vqGA4TVGlW6ZQ+dWyHqvMzbnXtbaAVIIV2ghAgqCst\n",
              "2toCMIaZwAjQo8pKfI1J+UfrlbJR+spwKEo9kswoO1e6smMsc4ddVoFJ4m/9Ah8+xETW1cDOCm6E\n",
              "IDcbeuMEL05bHuJRXEDK8/Muu+gruMLt6sAtYGnwsenaB/7mQQA3cgl4AAABl0GaU0nhDomUwU0T\n",
              "JwAAAwAATZLby3ZjiuhW30qHXfR/iFE1Rw/1Dh0TpCKV/bP8DpsRMJm0BwEwPsE226SIoxjkdMXH\n",
              "0P1A9VyFvUvRYm0PFdI2Yht1npjCAKm9W0ovpCsx1Ar9RkHaTU39FX91r6Y5CrPQhQNEAfqtCCdk\n",
              "Fsa8LZFagp2BgKx66GMgdrxOX46dOf0Tn17V0cE+g4s9JHLcZAG6tQ8ItTYQnsw8oDu2gEaUvEe9\n",
              "zWNSajinYLZxpOmqBXgZ69IDeiR8WzGiTZty++M8A7NPd5wnJRT8iXsPhnTARh1s3pVp4xgZSsJs\n",
              "gSqa7RumJrsBK/nClFW/L5MiMdei/m9XNfflwAqZTGm0EZt/xtcBF/9wA2W78npdRlxXTZQq3g9+\n",
              "9tuXzm9TzKHQBTjTBscvWn4pJMNVPGV2rBZ3oO5Hu7EGyyUfxMaOShApCinZmsF4xs5MKnONW00D\n",
              "RW+iOhQp9vd53ZHr5GoouvUOnUmsy0H7ncj4ZM1ykS8tw2cL8BYHzQx3K7uHRV834IbPnuuBAAAA\n",
              "NAGecmpC3wAAAwEmvRqzq55dBRm2bvQSMBjlUYI6ZeVWf6jwNxZTErXiCQVmxI7LstK7BlwAAAF6\n",
              "QZp0SeEPJlMCTwAAAwAAAwBNSbX6qTjBm1+8y+xb/utvTrOohTpNHB0yVmBvz+OqJPxB149aLo4t\n",
              "7lmmLZeUqpA5wNJb5kyi2E5X7cICc2pD8sfG5Kuiq2kwIDJedDX0BbYVFWn3QNNqcKlYtuHHwy4O\n",
              "VWMIzyFeJZS67gbOuVqVvXq00/i/qUDjuqgcZ13f0NPA0fSULMzPBAc5PP+G9vTunlMTbxHHe6zJ\n",
              "c75hxknwgUadWdM7cQ0AlN1AKFhtBGf4338qZQmqgJUlFoEoZoBbKXwyoHDrX0lOY4K4hHr3LFD3\n",
              "g4pBO2Pfndtm7bsHYZLaK4NLCZLGvXhFEMDkphe0LZPQqO3xINB7WCRcA9SeNiFIzbCkiv8f7HIn\n",
              "fQH7O3gE2uc5wtZb/d0xTld0wIwF+q5LYpUBtPQxEdDjiyacr/IB+HBgOfuy/jeNjTWwPuqYjQXk\n",
              "2Zp+yTwMVirzkTiXwlymHXGEVtmVPPjDifp6OAaMgAFLXCkVAAAAREGalknhDyZTBRE8nwAAAwAA\n",
              "AwBOf9QjgeD1kEY8glSARFIPuHdI1RnKK54X4e6/FJUNOaVjXeByKTDRJX0x6fdnLeJBAAAAKAGe\n",
              "tWpC3wAAAwB55iCGR8riGjMRjq3qeIm4NDhqj6LRtIkhNZm8DWAAAAA9QZq3SeEPJlMCTwAAAwAA\n",
              "AwBNkkRGnijwb3eMGqhCBKIBXkk8ZEJMLj6pPSh8257rEU+SGAAG1sTRCyPFSQAAADZBmthJ4Q8m\n",
              "UwJPAAADAAADAE5/2E+TZQve1AMaJ9IGm7XAlnpQol/CmA6vMsc3A03X0Qo4HiUAAAGoQZr5SeEP\n",
              "JlMCTwAAAwAATnljURdv4wQm57KPmDRZCubm2pJ0iDccQ999zEk+Au2afgKo9+9jnXO/T6JTaO3U\n",
              "9lI3vPp9HnZfvlWWg82fUU/pD31tGffaz/H8510+D+9ORXVQ6GqgaEtIKbq64hlQTzK5JlrbCOaG\n",
              "749AgLhbsKw0AqLoMt6+71d0wQEAXlhsGrC2YyTn0BTvrHCOeUPEf2bGPCuBqqC7W7GmrqElYJBt\n",
              "s/pe6nKF07moneKedxCsv2SJYxFmmDVH3dPcfVo+Rp/RvTsYqOStcTcuvCRwNszsxl7reRvgJZ9T\n",
              "rRAM4h12sinu48NWJckC3/N19O/b02Nzlt2IlHEK3PA+7ihKjJdSdjWng8RYh4M0l7WPREXGUPnV\n",
              "sh6rzM2517XFvbcKtBdCu2qWtoCMIaZwAjQo8pKfI1J+UeMFM2DRL0/LXtHbfdrVq91ZMZY5w66r\n",
              "QKTxN61eX8VCrGtq4GcFN0IQG429cYIXpy2PcSiuIGV5+ZaakbRdVWiKwC1gafCx6doH/uau3d5L\n",
              "5dkBFV1WlLd/nbdgAG96bI45gAAAAZ9BmxpJ4Q8mUwJPAAADAABNkwTvo03bv4wQm57KRxeypgMz\n",
              "Pfbk6V+X78qoe6h/U2CbnWRpjF8rjRixjkLqGyqj7RH8obi+L1d1HfeTSgNRXZgxfOVlUbs5tQjN\n",
              "oyUNGcPHICAoTmQxx8f+4j+Y/icZLHy3GRsQa/EW5cDTknh8HjhH5MEnyvRcq8bufPiKc4+gmBNj\n",
              "eoYsLFKRt/kq1ajgkYnvH9uQZodv8Gx9/cHYdrqgzZeCrDPYJD1/Q+DzGwDsQGWt+UlBmGcVwd+a\n",
              "W7ImqZi+i0fCQzdrJKo8eY08ePIuGtgaESNY2NdKLkHGW9wOfviBzgYW3k6ajmTAk6U2PrbclCXS\n",
              "6+0EtDxBmTDi9MSIxI2R3AHfWHBeOgBd6Rmteo1oEW6PsQ9OA0jekYSbZKKbaUIKUh+3/jESbjg7\n",
              "zm8EPUBr3f2e95e3csnSpDpsYmhqSIst4Sys0geb7vWFVlCHIbazOPtrMVRpYlQ6JQzdhEjBVCEN\n",
              "Ls41VPwbYL/rIdFtI4Xwbe8GLbQBvZfc/Od7xbV9NjHuFvYMAGDBAAAAP0GbO0nhDyZTAk8AAAMA\n",
              "AE2TAmGJ7EXLp12NKMVa/p65LHK/eWmTNBPWK+RQaDdD2nbqIK6PdZB9D8I4S8DegAAAAY9Bm19J\n",
              "4Q8mUwJvAAADAACZyx2YKTS3Vll8qKU4JIi8bupBIl5AkYpX9s/wOhxKmoiBH1az7BNk1MSKa1W+\n",
              "UY/LwE7QIXqe8/uwUn76DyN9R6AAqdYwJ/etZSh+AmabyTheuO0pGRyKv7rbQpeAOcGMO00ot1u9\n",
              "/YjpGxTEOdsELGaTJV6ZDf98TWIZzxb9ft0aMIBclPJ7G60URQQA2x+8iXDbyzK22k6PrUgKL1xW\n",
              "+T4U5MWyRwLc/owFEBSa0ph2LxONBtBXjQT3L74zwHoqWuf9HbuWcPsIahhbq8ApYASiab+45ieH\n",
              "V0kByjAPN0hO0YAkzWCZ4Nhmn4N49WlTyyzRXoriYyabRQd/AA/xB4Fl/bFHIDY9+rYYj2JCreD3\n",
              "7/eJ7nWsbaB0wRi81tP+sJpH28mE0PzspgsvECBGwd/ncPODYT+fuN98bWVi6UvIS0HsCQ/e8Ij+\n",
              "HIB0R06D4zgc/0KdVhyg4als3J7eYMG17uO+mjxPKNS6TDulpCEqFBDg2ebW9eX1wTGez7MAAABC\n",
              "QZ99RRE8Jf8AAAMBBlKUIFyZo6/qBIbU4kq8wb8/ZgoWfKJNYX52kBpJJZXZtDFnSOkEGAl1WG5q\n",
              "DFpxj1YomsxJAAAAIwGfnHRC3wAAAwEpAGJ3QqWsbOefQ3blWDyxMgZHI1xCRoXYAAAAIQGfnmpC\n",
              "3wAAAwEsY3Dv3LG1qItKbgi3+2PnDKEz0j3JoAAAAXpBm4BJqEFomUwJvwAAAwAAAwCbeNiglx+J\n",
              "QZfZu57KftBVDf9FCwdCt9g0WktDYkzKLvbbF7SHXD3m6/UWPFrBMaYtI/tJliv+uPKlo+Lovw6P\n",
              "gJrm+6Cg4qzqrPYEJbvjrSauKMplqnIffwP4yEb7mrwjzQGutGMEZ9zXFXvBj+UN5KiApItwkvmY\n",
              "INytAeXY1AqjEI1ynEb840rCRN2TMyhRi+hyxDVVXtfS8HbfBRhEO+icpr0aJsDmuFgcbzFQIFoh\n",
              "Gvv63l1VyPMnHSgEZ9cxoTn7QNkCnQGmxAYogC3QF5+7MUVmEIUxjOljidriwVIWq//a83Iyvqy9\n",
              "yFWinvlpBwXdFHTzH2nPsb4oTXjzzx8m2FJGvRRSSDYNMJK3cVHVpKUyP3s7Zf6aK70wI6BZu1ES\n",
              "57Lm+SnxwLImypCszvvwKTTYAdJkWBxbvEf4tBNmSGu65ZTNeFBgX7r8HNS5JZg+KvPh+MA3MBrP\n",
              "G8RBB4WAAcWnH+sAAABDQZuiSeEKUmUwURLN/wAAAwAAAwCbfuC4xglpxAb4LpOBOXCZkHnqlkIe\n",
              "Fm2FlcbZHX9ciHPmINc2iQGAwwcaEWkVIAAAACQBn8FqQt8AAAMAXWsIid9VHekaDrSyDguIwdzB\n",
              "mmmR6Dth4JEAAABCQZvDSeEOiZTAiP8AAAMAAAMBI53B6m+SGqvBIApJHmdMFHRv1PLnR2JInKfB\n",
              "b3oB9O0vN9VO2n1zUAAIH89cG7lAAAAAOEGb5UnhDyZTBRU8RwAAAwAAAwEm/dWFEwIU3glikKFN\n",
              "KEfdDcD4s+wdYalz7/2tk79f0CqOS7lBAAAAIgGeBGpC3wAAAwBdawiJ31Ud6SdhAaZ0sWJjTCZo\n",
              "ctznyQUAAAGiQZoISeEPJlMCK/8AAAMAApHGcZhw7/1vu9IheJ6zoMbQqSWYZaSTwCjTxb86ivKu\n",
              "6a/ETuLuE+K+eRJ9wA28VOfqN7QbO4a3ozutjKZWzRd/pGaH6dFjt4u1vzHe0YCYBzaigIwU7tbQ\n",
              "XUuj3O5ar6UuofyFTIIP7BdVNEegWee5nFDQSe6vYq7IXo5UIYNxgUv0lp1UtGCOaKP9/csFbnZs\n",
              "0zLVgQxndAjARxUCyIDMv0M2cc7kuE8e3oud5TZChBGgu0nficANcM8oOT8KgDnA0gxOgbEf74rb\n",
              "Zdydl5LcrkJlhPJ1hff7L1Y62Hdl10moQpBBUV947cFrhPUgHXuWUQl4pxazHP/lxCvBe8rj6bsa\n",
              "PdveCWcRsBH59dhgKAKasQIXWOxpv6SctEsDdQWWKI6XAKq5/me67YUQxn/TSs3lWj97lT9i4OAk\n",
              "reHB540Q+ypnwDIfmOpxLbenO97x/z9TW7dSaT3Z5McUA3EI4pvcd8ZUxKnKkdYPeSnnfO10zgpT\n",
              "f1WWA6VLKMqkNJKMRSSxbHyLuCTgA2gC5gyfdQAAADRBniZFETwp/wAAAwEcNHy6A5ZeJzkxxYoX\n",
              "oSfv6LjoxLNbmlLWbftIPmdKXn3xAm2poryBAAAAGwGeR2pC3wAAAwEmvRrCBpXM25k6hAPrtEBx\n",
              "wAAAAaBBmklJqEFomUwIrwAAAwACo+w0TLBizEoaILp5Sn8eOOjf8bYH3UR2Q1dS1Zy1PaQAf2AO\n",
              "eiF1tdU1bjXab0Wwnat0tqPsCdc3K72JA/3aN5H7mRJmI/Ui3PC/1hPmnhxen6WeWHqe5a3AkWV3\n",
              "s7Q6xmCNghvCJmvZjTMRSRpF0kKJkzEsZ10qsi36/0fTVGp2QCASzGzavcJVwZa11SxpmDWK1G//\n",
              "4STeVqodVkvQIz5v7gjpt0VAJl8H4a8SML4SktbcHHMj88mqCUzvMRdPhvGomqfJc8y8GiYUIem4\n",
              "iSXndjTtj4nuhkUOUrTmMiLe4IPX0d2AowZ5XCuegITPPOQp2qKdaFpPZ1qO1i3Xtu5x4GC0KPsf\n",
              "89E5n4hYD0wWES75saPA4o36UijCPDmhGAknPHIJ5QJxJyZGtbi2eDsye5aUm+3fya9ze0yp4cWD\n",
              "/u0rk9pg9Rqnh7g2WX3z21VZXfmttNEX21d/r9+9TcXPrD8WIpK/+5J0Z/+s+cUhB66hOfDz5NrX\n",
              "H+paGJ9EjfD+tSO101JCAVu9prYMCAAAAZxBmmpJ4QpSZTAjPwAAAwADoP/wIo2cjvvAovLf91nj\n",
              "c/Hrn8iO21MK9/CbfhtabZGito5AsA0Eggn8s/DKaT3R8FCPpkEJYL+IvtMoWLtt1tYXDtEKG0Uw\n",
              "Jj7ex3RVmBAarmwpHUdQuWMd4JZFEBdiAksN2T52E1ttBMe9UBJDUn6RRLHGftG56Nbe9Pwzxw2L\n",
              "VXaQgFMclv3jeWtSkO9Nrk5W4SXwzftFnop8kq8oChvkgsb3mQjXcpvoz1heFmQFyHhiH7E8nAGB\n",
              "4cWFcT2EC2xWHx2AwfcXVbIEoBMU7nrufA8O+Naq61zLM9QMiXAAErHFlapyvSsH6Bjwu6aAZNPk\n",
              "FmYggD9gYoEvTFgPcvk82z3bFg3dP8QGzAiMoWeC66AIkboBVl9O5Gw6rSJTzu7XNIf8BjUApIN2\n",
              "6JMPqnpdPLa2xiAgIW3OEYi4M5ZPJSTNcXpg1HpBFwtoplt4P36V5okETEi7aZqoMnsdH1HXZy2g\n",
              "HWUc2P6oZC2sh6BVdNj6sKZI7AiIXGzVTbc/ywuI056AI7YDRRgRAAAAO0Gai0nhDomUwIz/AAAD\n",
              "AAMSCi+zvrxyP5mmHg/ucCvCHVRGR0iA51EaA/RrE/5KlWpZUe+WxLoNYaKSAAAAOkGarknhDyZT\n",
              "AhL/AAADAAzTMEUqxd0FjDVf7qDAlTCBnIWhowYDP82IM1K78vNqRcQffa18kz1iy7gAAAAxQZ7M\n",
              "RRE8Kf8AAAMA88HfR60EFR+QITz7MJxmEc8GrwSgDxB+ODUEm69Ho/EOTzAr4QAAABQBnu1qQt8A\n",
              "AAMA948ksD3/jAAD0wAAAWZBmu9JqEFomUwIW/8AAAMAEEqEb3ZMCZdoPENIKOn/18c6a+QMrQ3B\n",
              "/40Foc/326vdEF021ehVLtfq0ADbk2VzQ2JQ3NC7aBznbVPNwcnjasaSEJBxJZypIUcTzICOUHdR\n",
              "Ph+U3WabPzq2nZzI7jaVWXMqcd9xn8QtOKj4bZFyw1P8HktjOm+hhB63X15T1gpF7XsQchUKMriO\n",
              "5zE+JBh5FHLQPXjpDl2KfXqNQ23A+9359zraU/ubTCjPNHhpulR7lpPOz1jl/5K33KT1fvTjROra\n",
              "RqYZozNg/tNPtvk0OlwyYG3RRd5Y3nxlIMkiBJ4/Un3M388s1w7n+QAsIBGqYYUb5gpvB9q4HWnV\n",
              "H7y17ds0eSve2MKBytcvlaqcqO3y4fNljfDyesIwL6Cwzd4jsduUivvGenK4pZcRjx5jLepEwW5/\n",
              "PBhQjxmqOr6FlzoHV5cdu5SjnzlHuDac89rc+H88kKuhAAAGVG1vb3YAAABsbXZoZAAAAAAAAAAA\n",
              "AAAAAAAAA+gAAA+gAAEAAAEAAAAAAAAAAAAAAAABAAAAAAAAAAAAAAAAAAAAAQAAAAAAAAAAAAAA\n",
              "AAAAQAAAAAAAAAAAAAAAAAAAAAAAAAAAAAAAAAAAAAAAAAIAAAV+dHJhawAAAFx0a2hkAAAAAwAA\n",
              "AAAAAAAAAAAAAQAAAAAAAA+gAAAAAAAAAAAAAAAAAAAAAAABAAAAAAAAAAAAAAAAAAAAAQAAAAAA\n",
              "AAAAAAAAAAAAQAAAAAH0AAAB9AAAAAAAJGVkdHMAAAAcZWxzdAAAAAAAAAABAAAPoAAABAAAAQAA\n",
              "AAAE9m1kaWEAAAAgbWRoZAAAAAAAAAAAAAAAAAAAKAAAAKAAVcQAAAAAAC1oZGxyAAAAAAAAAAB2\n",
              "aWRlAAAAAAAAAAAAAAAAVmlkZW9IYW5kbGVyAAAABKFtaW5mAAAAFHZtaGQAAAABAAAAAAAAAAAA\n",
              "AAAkZGluZgAAABxkcmVmAAAAAAAAAAEAAAAMdXJsIAAAAAEAAARhc3RibAAAALlzdHNkAAAAAAAA\n",
              "AAEAAACpYXZjMQAAAAAAAAABAAAAAAAAAAAAAAAAAAAAAAH0AfQASAAAAEgAAAAAAAAAAQAAAAAA\n",
              "AAAAAAAAAAAAAAAAAAAAAAAAAAAAAAAAAAAAABj//wAAADdhdmNDAWQAHv/hABpnZAAerNlAgBB5\n",
              "54QAAAMABAAAAwCgPFi2WAEABmjr48siwP34+AAAAAAcdXVpZGtoQPJfJE/FujmlG88DI/MAAAAA\n",
              "AAAAGHN0dHMAAAAAAAAAAQAAAFAAAAIAAAAAFHN0c3MAAAAAAAAAAQAAAAEAAAHwY3R0cwAAAAAA\n",
              "AAA8AAAAAgAABAAAAAABAAAIAAAAAAIAAAIAAAAAAQAACgAAAAABAAAEAAAAAAEAAAAAAAAAAQAA\n",
              "AgAAAAAHAAAEAAAAAAEAAAgAAAAAAgAAAgAAAAABAAAEAAAAAAEAAAoAAAAAAQAABAAAAAABAAAA\n",
              "AAAAAAEAAAIAAAAAAQAABgAAAAABAAACAAAAAAIAAAQAAAAAAQAACgAAAAABAAAEAAAAAAEAAAAA\n",
              "AAAAAQAAAgAAAAABAAAIAAAAAAIAAAIAAAAAAQAACgAAAAABAAAEAAAAAAEAAAAAAAAAAQAAAgAA\n",
              "AAABAAAGAAAAAAEAAAIAAAAAAgAABAAAAAABAAAKAAAAAAEAAAQAAAAAAQAAAAAAAAABAAACAAAA\n",
              "AAEAAAYAAAAAAQAAAgAAAAABAAAEAAAAAAEAAAYAAAAAAQAAAgAAAAABAAAEAAAAAAEAAAYAAAAA\n",
              "AQAAAgAAAAAFAAAEAAAAAAEAAAoAAAAAAQAABAAAAAABAAAAAAAAAAEAAAIAAAAAAQAABAAAAAAB\n",
              "AAAGAAAAAAEAAAIAAAAAAQAABAAAAAABAAAGAAAAAAEAAAIAAAAAAQAACAAAAAACAAACAAAAAAMA\n",
              "AAQAAAAAAQAACAAAAAACAAACAAAAAAEAAAQAAAAAHHN0c2MAAAAAAAAAAQAAAAEAAABQAAAAAQAA\n",
              "AVRzdHN6AAAAAAAAAAAAAABQAAAH8QAAAZAAAAG/AAAANQAAACcAAAGhAAAASAAAACAAAAAcAAAB\n",
              "iAAAAX4AAAGYAAAAQQAAAEUAAAGnAAAAPwAAAD4AAAAtAAAAGQAAAEgAAAF/AAAAQQAAACcAAAAf\n",
              "AAAAPgAAACAAAAG2AAAARQAAAYIAAABIAAAAJwAAACEAAAA9AAAALgAAABcAAAGtAAAAOwAAACYA\n",
              "AAAdAAABpQAAADIAAAGZAAAAQwAAAcsAAAA0AAAAJQAAAB4AAAA6AAAAKwAAAakAAAGbAAAAOAAA\n",
              "AX4AAABIAAAALAAAAEEAAAA6AAABrAAAAaMAAABDAAABkwAAAEYAAAAnAAAAJQAAAX4AAABHAAAA\n",
              "KAAAAEYAAAA8AAAAJgAAAaYAAAA4AAAAHwAAAaQAAAGgAAAAPwAAAD4AAAA1AAAAGAAAAWoAAAAU\n",
              "c3RjbwAAAAAAAAABAAAAMAAAAGJ1ZHRhAAAAWm1ldGEAAAAAAAAAIWhkbHIAAAAAAAAAAG1kaXJh\n",
              "cHBsAAAAAAAAAAAAAAAALWlsc3QAAAAlqXRvbwAAAB1kYXRhAAAAAQAAAABMYXZmNTguNzYuMTAw\n",
              "\">\n",
              "  Your browser does not support the video tag.\n",
              "</video>"
            ]
          },
          "metadata": {},
          "execution_count": 14
        }
      ]
    }
  ],
  "metadata": {
    "kernelspec": {
      "display_name": "Python 3",
      "language": "python",
      "name": "python3"
    },
    "language_info": {
      "codemirror_mode": {
        "name": "ipython",
        "version": 3
      },
      "file_extension": ".py",
      "mimetype": "text/x-python",
      "name": "python",
      "nbconvert_exporter": "python",
      "pygments_lexer": "ipython3",
      "version": "3.8.5"
    },
    "colab": {
      "provenance": []
    }
  },
  "nbformat": 4,
  "nbformat_minor": 0
}